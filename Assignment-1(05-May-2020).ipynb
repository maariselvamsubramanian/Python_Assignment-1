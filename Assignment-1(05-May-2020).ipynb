{
 "cells": [
  {
   "cell_type": "code",
   "execution_count": null,
   "metadata": {},
   "outputs": [],
   "source": [
    "print(\"This is my first Assignment Task! \")"
   ]
  },
  {
   "cell_type": "code",
   "execution_count": null,
   "metadata": {},
   "outputs": [],
   "source": [
    "\n",
    "# Declare the variable(startValue, endValue) and initialize the values to that variable\n",
    "startValue = 2000\n",
    "endValue = 3200\n",
    "matchedValue = []\n",
    "\n",
    "# Method 1\n",
    "\n",
    "while startValue <= endValue:\n",
    "    if(startValue % 7 == 0  and startValue % 5 != 0):\n",
    "        matchedValue.append(startValue)\n",
    "    startValue +=1       \n",
    "    \n",
    "if startValue>=endValue:\n",
    "    print('---------------For An Array Output---------------------')\n",
    "    print(str(matchedValue))\n",
    "    print('---------------------For a Comma Separated Output---------------------')\n",
    "    print(','.join([str(elem) for elem in matchedValue]))\n",
    "    \n",
    "# Method 2\n",
    "print(\" **************** From Method 2 *****************\")\n",
    "print ([i for i in range(2000,3201) if(i % 7 == 0  and i % 5 != 0)])"
   ]
  },
  {
   "cell_type": "code",
   "execution_count": null,
   "metadata": {},
   "outputs": [],
   "source": [
    "# Program for reverse the string:\n",
    "\n",
    "firstName = str(input(\"Enter the first name: \"))\n",
    "lastName = str(input(\"Enter the last name: \"))\n",
    "print(\"Reverse of Given name is : \" +firstName[::-1]+\"  \"+lastName[::-1])"
   ]
  },
  {
   "cell_type": "code",
   "execution_count": null,
   "metadata": {},
   "outputs": [],
   "source": [
    "# Program for finding the volume of a sphere with diameter 12 cm.\n",
    "\n",
    "import math\n",
    "radius = 12/2\n",
    "\n",
    "# Method 1:\n",
    "print((4/3)*math.pi*(radius**3))\n",
    "\n",
    "# Method 2:\n",
    "print((4/3)*(3.141592653589793)*(radius**3))"
   ]
  },
  {
   "cell_type": "code",
   "execution_count": null,
   "metadata": {},
   "outputs": [],
   "source": [
    "#program for accepts a sequence of comma-separated numbers from console and generate a list.\n",
    "integers = str(input('Enter the Comma Separated Integers : '))\n",
    "print([ int(integer) for integer in integers.split(',') ])"
   ]
  },
  {
   "cell_type": "code",
   "execution_count": null,
   "metadata": {},
   "outputs": [],
   "source": [
    "# pattern using nested for loop\n",
    "value = int(input(\"Enter the Maximum value stars - \"))\n",
    "for i in range(1,(value+1)):\n",
    "    print(i*('*'))\n",
    "    if(i==(value)):\n",
    "        for i in range(1,(value))[::-1]:\n",
    "            print(i*('*'))"
   ]
  },
  {
   "cell_type": "code",
   "execution_count": null,
   "metadata": {},
   "outputs": [],
   "source": [
    "print(\"\"\"WE, THE PEOPLE OF INDIA, \\n\\t having solemnly resolved to constitute India into a SOVEREIGN, \\n\\t\\t SOCIALIST, SECULAR, DEMOCRATIC REPUBLIC \\n\\t\\t and to secure to all its citizens\"\"\")"
   ]
  },
  {
   "cell_type": "code",
   "execution_count": null,
   "metadata": {},
   "outputs": [],
   "source": [
    "# program to reverse a word after accepting the input from the user\n",
    "\n",
    "input_string = input(\"Enter the string to reverse : \")\n",
    "print(input_string[::-1])"
   ]
  },
  {
   "cell_type": "code",
   "execution_count": null,
   "metadata": {},
   "outputs": [],
   "source": []
  }
 ],
 "metadata": {
  "kernelspec": {
   "display_name": "Python 3",
   "language": "python",
   "name": "python3"
  },
  "language_info": {
   "codemirror_mode": {
    "name": "ipython",
    "version": 3
   },
   "file_extension": ".py",
   "mimetype": "text/x-python",
   "name": "python",
   "nbconvert_exporter": "python",
   "pygments_lexer": "ipython3",
   "version": "3.7.6"
  }
 },
 "nbformat": 4,
 "nbformat_minor": 4
}
